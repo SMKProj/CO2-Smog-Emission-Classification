{
 "cells": [
  {
   "cell_type": "code",
   "execution_count": 28,
   "metadata": {},
   "outputs": [],
   "source": [
    "import pandas as pd\n",
    "import numpy as np \n",
    "import seaborn as sns\n",
    "import matplotlib.pyplot as plt \n",
    "from sklearn.model_selection import train_test_split"
   ]
  },
  {
   "cell_type": "code",
   "execution_count": 11,
   "metadata": {},
   "outputs": [
    {
     "name": "stdout",
     "output_type": "stream",
     "text": [
      "The shape of given dataset is  (946, 15)\n"
     ]
    },
    {
     "data": {
      "text/html": [
       "<div>\n",
       "<style scoped>\n",
       "    .dataframe tbody tr th:only-of-type {\n",
       "        vertical-align: middle;\n",
       "    }\n",
       "\n",
       "    .dataframe tbody tr th {\n",
       "        vertical-align: top;\n",
       "    }\n",
       "\n",
       "    .dataframe thead th {\n",
       "        text-align: right;\n",
       "    }\n",
       "</style>\n",
       "<table border=\"1\" class=\"dataframe\">\n",
       "  <thead>\n",
       "    <tr style=\"text-align: right;\">\n",
       "      <th></th>\n",
       "      <th>Model Year</th>\n",
       "      <th>Make</th>\n",
       "      <th>Model</th>\n",
       "      <th>Vehicle Class</th>\n",
       "      <th>Engine Size(L)</th>\n",
       "      <th>Cylinders</th>\n",
       "      <th>Transmission</th>\n",
       "      <th>Fuel Type</th>\n",
       "      <th>Fuel Consumption (City (L/100 km)</th>\n",
       "      <th>Fuel Consumption(Hwy (L/100 km))</th>\n",
       "      <th>Fuel Consumption(Comb (L/100 km))</th>\n",
       "      <th>Fuel Consumption(Comb (mpg))</th>\n",
       "      <th>CO2 Emissions(g/km)</th>\n",
       "      <th>CO2 Rating</th>\n",
       "      <th>Smog Rating</th>\n",
       "    </tr>\n",
       "  </thead>\n",
       "  <tbody>\n",
       "    <tr>\n",
       "      <th>0</th>\n",
       "      <td>2022</td>\n",
       "      <td>Acura</td>\n",
       "      <td>ILX</td>\n",
       "      <td>Compact</td>\n",
       "      <td>2.4</td>\n",
       "      <td>4</td>\n",
       "      <td>AM8</td>\n",
       "      <td>Z</td>\n",
       "      <td>9.9</td>\n",
       "      <td>7.0</td>\n",
       "      <td>8.6</td>\n",
       "      <td>33</td>\n",
       "      <td>200</td>\n",
       "      <td>6</td>\n",
       "      <td>3</td>\n",
       "    </tr>\n",
       "    <tr>\n",
       "      <th>1</th>\n",
       "      <td>2022</td>\n",
       "      <td>Acura</td>\n",
       "      <td>MDX SH-AWD</td>\n",
       "      <td>SUV: Small</td>\n",
       "      <td>3.5</td>\n",
       "      <td>6</td>\n",
       "      <td>AS10</td>\n",
       "      <td>Z</td>\n",
       "      <td>12.6</td>\n",
       "      <td>9.4</td>\n",
       "      <td>11.2</td>\n",
       "      <td>25</td>\n",
       "      <td>263</td>\n",
       "      <td>4</td>\n",
       "      <td>5</td>\n",
       "    </tr>\n",
       "    <tr>\n",
       "      <th>2</th>\n",
       "      <td>2022</td>\n",
       "      <td>Acura</td>\n",
       "      <td>RDX SH-AWD</td>\n",
       "      <td>SUV: Small</td>\n",
       "      <td>2.0</td>\n",
       "      <td>4</td>\n",
       "      <td>AS10</td>\n",
       "      <td>Z</td>\n",
       "      <td>11.0</td>\n",
       "      <td>8.6</td>\n",
       "      <td>9.9</td>\n",
       "      <td>29</td>\n",
       "      <td>232</td>\n",
       "      <td>5</td>\n",
       "      <td>6</td>\n",
       "    </tr>\n",
       "  </tbody>\n",
       "</table>\n",
       "</div>"
      ],
      "text/plain": [
       "   Model Year   Make       Model Vehicle Class  Engine Size(L)  Cylinders  \\\n",
       "0        2022  Acura         ILX       Compact             2.4          4   \n",
       "1        2022  Acura  MDX SH-AWD    SUV: Small             3.5          6   \n",
       "2        2022  Acura  RDX SH-AWD    SUV: Small             2.0          4   \n",
       "\n",
       "  Transmission Fuel Type  Fuel Consumption (City (L/100 km)  \\\n",
       "0          AM8         Z                                9.9   \n",
       "1         AS10         Z                               12.6   \n",
       "2         AS10         Z                               11.0   \n",
       "\n",
       "   Fuel Consumption(Hwy (L/100 km))  Fuel Consumption(Comb (L/100 km))  \\\n",
       "0                               7.0                                8.6   \n",
       "1                               9.4                               11.2   \n",
       "2                               8.6                                9.9   \n",
       "\n",
       "   Fuel Consumption(Comb (mpg))  CO2 Emissions(g/km)  CO2 Rating  Smog Rating  \n",
       "0                            33                  200           6            3  \n",
       "1                            25                  263           4            5  \n",
       "2                            29                  232           5            6  "
      ]
     },
     "execution_count": 11,
     "metadata": {},
     "output_type": "execute_result"
    }
   ],
   "source": [
    "df = pd.read_csv(\"Fuel.csv\")\n",
    "print(\"The shape of given dataset is \", df.shape)\n",
    "df.head(3)"
   ]
  },
  {
   "cell_type": "code",
   "execution_count": 12,
   "metadata": {},
   "outputs": [
    {
     "data": {
      "text/plain": [
       "Index(['Year', 'Make', 'Model', 'Vehicle', 'Engine', 'Cylinders',\n",
       "       'Transmission', 'Fuel', 'FC_City', 'FC_Hwy', 'FC_Comb_L', 'FC_Comb_Mpg',\n",
       "       'Emission', 'CO2', 'Smog'],\n",
       "      dtype='object')"
      ]
     },
     "execution_count": 12,
     "metadata": {},
     "output_type": "execute_result"
    }
   ],
   "source": [
    "col_names = [\"Year\", \"Make\", \"Model\", \"Vehicle\", \"Engine\", \"Cylinders\", \"Transmission\", \"Fuel\", \"FC_City\", \"FC_Hwy\", \"FC_Comb_L\", \"FC_Comb_Mpg\", \"Emission\", \"CO2\", \"Smog\"]\n",
    "df.columns = col_names\n",
    "\n",
    "df.columns"
   ]
  },
  {
   "cell_type": "code",
   "execution_count": 13,
   "metadata": {},
   "outputs": [],
   "source": [
    "sample_df = pd.get_dummies(df,columns=[\"Make\", \"Model\", \"Vehicle\", \"Transmission\", \"Fuel\"])"
   ]
  },
  {
   "cell_type": "code",
   "execution_count": 14,
   "metadata": {},
   "outputs": [
    {
     "data": {
      "text/html": [
       "<div>\n",
       "<style scoped>\n",
       "    .dataframe tbody tr th:only-of-type {\n",
       "        vertical-align: middle;\n",
       "    }\n",
       "\n",
       "    .dataframe tbody tr th {\n",
       "        vertical-align: top;\n",
       "    }\n",
       "\n",
       "    .dataframe thead th {\n",
       "        text-align: right;\n",
       "    }\n",
       "</style>\n",
       "<table border=\"1\" class=\"dataframe\">\n",
       "  <thead>\n",
       "    <tr style=\"text-align: right;\">\n",
       "      <th></th>\n",
       "      <th>Engine</th>\n",
       "      <th>Cylinders</th>\n",
       "      <th>FC_City</th>\n",
       "      <th>FC_Hwy</th>\n",
       "      <th>FC_Comb_L</th>\n",
       "      <th>FC_Comb_Mpg</th>\n",
       "      <th>Emission</th>\n",
       "      <th>CO2</th>\n",
       "      <th>Smog</th>\n",
       "      <th>Make_Acura</th>\n",
       "      <th>...</th>\n",
       "      <th>Transmission_AV6</th>\n",
       "      <th>Transmission_AV7</th>\n",
       "      <th>Transmission_AV8</th>\n",
       "      <th>Transmission_M5</th>\n",
       "      <th>Transmission_M6</th>\n",
       "      <th>Transmission_M7</th>\n",
       "      <th>Fuel_D</th>\n",
       "      <th>Fuel_E</th>\n",
       "      <th>Fuel_X</th>\n",
       "      <th>Fuel_Z</th>\n",
       "    </tr>\n",
       "  </thead>\n",
       "  <tbody>\n",
       "    <tr>\n",
       "      <th>0</th>\n",
       "      <td>2.4</td>\n",
       "      <td>4</td>\n",
       "      <td>9.9</td>\n",
       "      <td>7.0</td>\n",
       "      <td>8.6</td>\n",
       "      <td>33</td>\n",
       "      <td>200</td>\n",
       "      <td>6</td>\n",
       "      <td>3</td>\n",
       "      <td>1</td>\n",
       "      <td>...</td>\n",
       "      <td>0</td>\n",
       "      <td>0</td>\n",
       "      <td>0</td>\n",
       "      <td>0</td>\n",
       "      <td>0</td>\n",
       "      <td>0</td>\n",
       "      <td>0</td>\n",
       "      <td>0</td>\n",
       "      <td>0</td>\n",
       "      <td>1</td>\n",
       "    </tr>\n",
       "    <tr>\n",
       "      <th>1</th>\n",
       "      <td>3.5</td>\n",
       "      <td>6</td>\n",
       "      <td>12.6</td>\n",
       "      <td>9.4</td>\n",
       "      <td>11.2</td>\n",
       "      <td>25</td>\n",
       "      <td>263</td>\n",
       "      <td>4</td>\n",
       "      <td>5</td>\n",
       "      <td>1</td>\n",
       "      <td>...</td>\n",
       "      <td>0</td>\n",
       "      <td>0</td>\n",
       "      <td>0</td>\n",
       "      <td>0</td>\n",
       "      <td>0</td>\n",
       "      <td>0</td>\n",
       "      <td>0</td>\n",
       "      <td>0</td>\n",
       "      <td>0</td>\n",
       "      <td>1</td>\n",
       "    </tr>\n",
       "    <tr>\n",
       "      <th>2</th>\n",
       "      <td>2.0</td>\n",
       "      <td>4</td>\n",
       "      <td>11.0</td>\n",
       "      <td>8.6</td>\n",
       "      <td>9.9</td>\n",
       "      <td>29</td>\n",
       "      <td>232</td>\n",
       "      <td>5</td>\n",
       "      <td>6</td>\n",
       "      <td>1</td>\n",
       "      <td>...</td>\n",
       "      <td>0</td>\n",
       "      <td>0</td>\n",
       "      <td>0</td>\n",
       "      <td>0</td>\n",
       "      <td>0</td>\n",
       "      <td>0</td>\n",
       "      <td>0</td>\n",
       "      <td>0</td>\n",
       "      <td>0</td>\n",
       "      <td>1</td>\n",
       "    </tr>\n",
       "  </tbody>\n",
       "</table>\n",
       "<p>3 rows × 804 columns</p>\n",
       "</div>"
      ],
      "text/plain": [
       "   Engine  Cylinders  FC_City  FC_Hwy  FC_Comb_L  FC_Comb_Mpg  Emission  CO2  \\\n",
       "0     2.4          4      9.9     7.0        8.6           33       200    6   \n",
       "1     3.5          6     12.6     9.4       11.2           25       263    4   \n",
       "2     2.0          4     11.0     8.6        9.9           29       232    5   \n",
       "\n",
       "   Smog  Make_Acura  ...  Transmission_AV6  Transmission_AV7  \\\n",
       "0     3           1  ...                 0                 0   \n",
       "1     5           1  ...                 0                 0   \n",
       "2     6           1  ...                 0                 0   \n",
       "\n",
       "   Transmission_AV8  Transmission_M5  Transmission_M6  Transmission_M7  \\\n",
       "0                 0                0                0                0   \n",
       "1                 0                0                0                0   \n",
       "2                 0                0                0                0   \n",
       "\n",
       "   Fuel_D  Fuel_E  Fuel_X  Fuel_Z  \n",
       "0       0       0       0       1  \n",
       "1       0       0       0       1  \n",
       "2       0       0       0       1  \n",
       "\n",
       "[3 rows x 804 columns]"
      ]
     },
     "execution_count": 14,
     "metadata": {},
     "output_type": "execute_result"
    }
   ],
   "source": [
    "sample_df.drop(columns=\"Year\", inplace=True, axis=1)\n",
    "sample_df.head(3)"
   ]
  },
  {
   "cell_type": "code",
   "execution_count": 15,
   "metadata": {},
   "outputs": [],
   "source": [
    "X = sample_df.drop(['Smog'], axis=1).values\n",
    "Y = sample_df['Smog'].values"
   ]
  },
  {
   "cell_type": "code",
   "execution_count": 16,
   "metadata": {},
   "outputs": [],
   "source": [
    "Y = Y.reshape((len(Y), 1))"
   ]
  },
  {
   "cell_type": "code",
   "execution_count": 17,
   "metadata": {},
   "outputs": [
    {
     "data": {
      "text/plain": [
       "array([3, 5, 6, 7, 1], dtype=int64)"
      ]
     },
     "execution_count": 17,
     "metadata": {},
     "output_type": "execute_result"
    }
   ],
   "source": [
    "sample_df[\"Smog\"].unique()"
   ]
  },
  {
   "cell_type": "code",
   "execution_count": 18,
   "metadata": {},
   "outputs": [],
   "source": [
    "from sklearn.preprocessing import OneHotEncoder\n",
    "he = OneHotEncoder()\n",
    "Y = he.fit_transform(Y).toarray()"
   ]
  },
  {
   "cell_type": "code",
   "execution_count": 19,
   "metadata": {},
   "outputs": [
    {
     "data": {
      "text/plain": [
       "array([[0., 1., 0., 0., 0.],\n",
       "       [0., 0., 1., 0., 0.],\n",
       "       [0., 0., 0., 1., 0.],\n",
       "       ...,\n",
       "       [0., 0., 0., 0., 1.],\n",
       "       [0., 0., 1., 0., 0.],\n",
       "       [0., 0., 0., 0., 1.]])"
      ]
     },
     "execution_count": 19,
     "metadata": {},
     "output_type": "execute_result"
    }
   ],
   "source": [
    "Y"
   ]
  },
  {
   "cell_type": "code",
   "execution_count": 20,
   "metadata": {},
   "outputs": [
    {
     "name": "stdout",
     "output_type": "stream",
     "text": [
      "X_train (662, 803)\n",
      "Y_train (662, 5)\n",
      "X_test (284, 803)\n",
      "Y_test (284, 5)\n"
     ]
    }
   ],
   "source": [
    "from sklearn.model_selection import train_test_split\n",
    "\n",
    "X_train,X_test,Y_train,Y_test = train_test_split(X,Y,test_size = 0.3)\n",
    "print(\"X_train\", X_train.shape)\n",
    "print(\"Y_train\", Y_train.shape)\n",
    "print(\"X_test\", X_test.shape)\n",
    "print(\"Y_test\", Y_test.shape)\n"
   ]
  },
  {
   "cell_type": "code",
   "execution_count": 21,
   "metadata": {},
   "outputs": [],
   "source": [
    "from keras.models import Sequential\n",
    "from keras.layers import Dense"
   ]
  },
  {
   "cell_type": "code",
   "execution_count": 22,
   "metadata": {},
   "outputs": [],
   "source": [
    "ip = X_train.shape[1]"
   ]
  },
  {
   "cell_type": "code",
   "execution_count": 23,
   "metadata": {},
   "outputs": [],
   "source": [
    "model = Sequential()\n",
    "model.add(Dense(550, activation='relu', input_dim = ip))\n",
    "#model.add(Dense(550,  activation='relu'))\n",
    "model.add(Dense(5, activation='softmax'))\n"
   ]
  },
  {
   "cell_type": "code",
   "execution_count": 24,
   "metadata": {},
   "outputs": [],
   "source": [
    "model.compile(optimizer='adam',loss='categorical_crossentropy',metrics=['accuracy'])"
   ]
  },
  {
   "cell_type": "code",
   "execution_count": 25,
   "metadata": {},
   "outputs": [
    {
     "name": "stdout",
     "output_type": "stream",
     "text": [
      "Epoch 1/50\n",
      "21/21 [==============================] - 8s 86ms/step - loss: 3.8615 - accuracy: 0.2477 - val_loss: 2.3878 - val_accuracy: 0.2289\n",
      "Epoch 2/50\n",
      "21/21 [==============================] - 1s 26ms/step - loss: 1.5414 - accuracy: 0.4003 - val_loss: 1.2507 - val_accuracy: 0.4613\n",
      "Epoch 3/50\n",
      "21/21 [==============================] - 1s 37ms/step - loss: 1.1074 - accuracy: 0.5574 - val_loss: 1.2080 - val_accuracy: 0.4401\n",
      "Epoch 4/50\n",
      "21/21 [==============================] - 1s 31ms/step - loss: 1.0189 - accuracy: 0.6254 - val_loss: 1.2977 - val_accuracy: 0.4965\n",
      "Epoch 5/50\n",
      "21/21 [==============================] - 1s 24ms/step - loss: 0.8964 - accuracy: 0.6677 - val_loss: 1.0418 - val_accuracy: 0.5880\n",
      "Epoch 6/50\n",
      "21/21 [==============================] - 1s 26ms/step - loss: 0.8265 - accuracy: 0.6903 - val_loss: 1.0408 - val_accuracy: 0.5423\n",
      "Epoch 7/50\n",
      "21/21 [==============================] - 1s 28ms/step - loss: 0.7937 - accuracy: 0.7115 - val_loss: 0.9879 - val_accuracy: 0.5810\n",
      "Epoch 8/50\n",
      "21/21 [==============================] - 0s 20ms/step - loss: 0.7434 - accuracy: 0.7221 - val_loss: 0.9915 - val_accuracy: 0.5915\n",
      "Epoch 9/50\n",
      "21/21 [==============================] - 0s 23ms/step - loss: 0.7585 - accuracy: 0.6979 - val_loss: 0.8511 - val_accuracy: 0.6338\n",
      "Epoch 10/50\n",
      "21/21 [==============================] - 0s 17ms/step - loss: 0.6870 - accuracy: 0.7341 - val_loss: 1.0509 - val_accuracy: 0.5352\n",
      "Epoch 11/50\n",
      "21/21 [==============================] - 0s 17ms/step - loss: 0.6124 - accuracy: 0.7644 - val_loss: 0.8876 - val_accuracy: 0.6444\n",
      "Epoch 12/50\n",
      "21/21 [==============================] - 0s 19ms/step - loss: 0.5857 - accuracy: 0.7991 - val_loss: 1.0797 - val_accuracy: 0.5704\n",
      "Epoch 13/50\n",
      "21/21 [==============================] - 0s 17ms/step - loss: 0.5356 - accuracy: 0.8263 - val_loss: 0.9928 - val_accuracy: 0.5599\n",
      "Epoch 14/50\n",
      "21/21 [==============================] - 0s 16ms/step - loss: 0.5090 - accuracy: 0.8278 - val_loss: 1.0342 - val_accuracy: 0.5986\n",
      "Epoch 15/50\n",
      "21/21 [==============================] - 0s 23ms/step - loss: 0.5005 - accuracy: 0.8127 - val_loss: 0.7839 - val_accuracy: 0.6549\n",
      "Epoch 16/50\n",
      "21/21 [==============================] - 0s 14ms/step - loss: 0.4310 - accuracy: 0.8701 - val_loss: 0.7722 - val_accuracy: 0.6725\n",
      "Epoch 17/50\n",
      "21/21 [==============================] - 0s 12ms/step - loss: 0.4766 - accuracy: 0.8444 - val_loss: 0.8674 - val_accuracy: 0.6549\n",
      "Epoch 18/50\n",
      "21/21 [==============================] - 0s 14ms/step - loss: 0.4214 - accuracy: 0.8535 - val_loss: 0.8505 - val_accuracy: 0.6655\n",
      "Epoch 19/50\n",
      "21/21 [==============================] - 0s 17ms/step - loss: 0.3320 - accuracy: 0.9290 - val_loss: 0.7685 - val_accuracy: 0.6901\n",
      "Epoch 20/50\n",
      "21/21 [==============================] - 0s 19ms/step - loss: 0.3451 - accuracy: 0.9124 - val_loss: 0.8261 - val_accuracy: 0.6761\n",
      "Epoch 21/50\n",
      "21/21 [==============================] - 0s 20ms/step - loss: 0.3196 - accuracy: 0.9139 - val_loss: 0.7374 - val_accuracy: 0.7077\n",
      "Epoch 22/50\n",
      "21/21 [==============================] - 0s 20ms/step - loss: 0.3288 - accuracy: 0.9245 - val_loss: 0.7236 - val_accuracy: 0.7254\n",
      "Epoch 23/50\n",
      "21/21 [==============================] - 0s 13ms/step - loss: 0.2760 - accuracy: 0.9547 - val_loss: 0.7483 - val_accuracy: 0.7007\n",
      "Epoch 24/50\n",
      "21/21 [==============================] - 0s 17ms/step - loss: 0.2945 - accuracy: 0.9215 - val_loss: 0.7413 - val_accuracy: 0.7042\n",
      "Epoch 25/50\n",
      "21/21 [==============================] - 0s 14ms/step - loss: 0.2894 - accuracy: 0.9366 - val_loss: 0.7193 - val_accuracy: 0.6937\n",
      "Epoch 26/50\n",
      "21/21 [==============================] - 0s 12ms/step - loss: 0.2553 - accuracy: 0.9396 - val_loss: 0.7047 - val_accuracy: 0.7218\n",
      "Epoch 27/50\n",
      "21/21 [==============================] - 0s 15ms/step - loss: 0.2475 - accuracy: 0.9577 - val_loss: 0.7494 - val_accuracy: 0.7430\n",
      "Epoch 28/50\n",
      "21/21 [==============================] - 0s 23ms/step - loss: 0.2296 - accuracy: 0.9577 - val_loss: 0.7478 - val_accuracy: 0.7254\n",
      "Epoch 29/50\n",
      "21/21 [==============================] - 0s 20ms/step - loss: 0.2146 - accuracy: 0.9622 - val_loss: 0.7572 - val_accuracy: 0.6972\n",
      "Epoch 30/50\n",
      "21/21 [==============================] - 0s 18ms/step - loss: 0.2133 - accuracy: 0.9592 - val_loss: 0.7073 - val_accuracy: 0.7254\n",
      "Epoch 31/50\n",
      "21/21 [==============================] - 1s 24ms/step - loss: 0.2134 - accuracy: 0.9622 - val_loss: 0.9011 - val_accuracy: 0.6197\n",
      "Epoch 32/50\n",
      "21/21 [==============================] - 0s 20ms/step - loss: 0.2323 - accuracy: 0.9471 - val_loss: 0.7236 - val_accuracy: 0.7077\n",
      "Epoch 33/50\n",
      "21/21 [==============================] - 0s 22ms/step - loss: 0.1818 - accuracy: 0.9637 - val_loss: 0.8165 - val_accuracy: 0.6690\n",
      "Epoch 34/50\n",
      "21/21 [==============================] - 0s 18ms/step - loss: 0.2108 - accuracy: 0.9517 - val_loss: 0.7295 - val_accuracy: 0.7254\n",
      "Epoch 35/50\n",
      "21/21 [==============================] - 0s 12ms/step - loss: 0.1822 - accuracy: 0.9637 - val_loss: 0.7950 - val_accuracy: 0.6725\n",
      "Epoch 36/50\n",
      "21/21 [==============================] - 0s 18ms/step - loss: 0.1620 - accuracy: 0.9713 - val_loss: 0.7135 - val_accuracy: 0.6901\n",
      "Epoch 37/50\n",
      "21/21 [==============================] - 0s 19ms/step - loss: 0.1515 - accuracy: 0.9758 - val_loss: 0.7089 - val_accuracy: 0.7324\n",
      "Epoch 38/50\n",
      "21/21 [==============================] - 1s 33ms/step - loss: 0.1529 - accuracy: 0.9698 - val_loss: 0.7540 - val_accuracy: 0.6831\n",
      "Epoch 39/50\n",
      "21/21 [==============================] - 0s 20ms/step - loss: 0.1442 - accuracy: 0.9743 - val_loss: 0.7086 - val_accuracy: 0.7289\n",
      "Epoch 40/50\n",
      "21/21 [==============================] - 0s 21ms/step - loss: 0.1495 - accuracy: 0.9668 - val_loss: 0.7685 - val_accuracy: 0.7042\n",
      "Epoch 41/50\n",
      "21/21 [==============================] - 0s 19ms/step - loss: 0.1536 - accuracy: 0.9653 - val_loss: 0.7168 - val_accuracy: 0.7289\n",
      "Epoch 42/50\n",
      "21/21 [==============================] - 0s 20ms/step - loss: 0.1332 - accuracy: 0.9773 - val_loss: 0.7275 - val_accuracy: 0.7077\n",
      "Epoch 43/50\n",
      "21/21 [==============================] - 0s 21ms/step - loss: 0.1464 - accuracy: 0.9637 - val_loss: 0.6823 - val_accuracy: 0.7359\n",
      "Epoch 44/50\n",
      "21/21 [==============================] - 0s 20ms/step - loss: 0.1669 - accuracy: 0.9683 - val_loss: 0.9911 - val_accuracy: 0.6197\n",
      "Epoch 45/50\n",
      "21/21 [==============================] - 0s 22ms/step - loss: 0.1580 - accuracy: 0.9562 - val_loss: 0.7198 - val_accuracy: 0.7430\n",
      "Epoch 46/50\n",
      "21/21 [==============================] - 0s 16ms/step - loss: 0.1309 - accuracy: 0.9668 - val_loss: 0.7331 - val_accuracy: 0.6972\n",
      "Epoch 47/50\n",
      "21/21 [==============================] - 0s 20ms/step - loss: 0.1255 - accuracy: 0.9728 - val_loss: 0.8209 - val_accuracy: 0.7254\n",
      "Epoch 48/50\n",
      "21/21 [==============================] - 0s 19ms/step - loss: 0.1528 - accuracy: 0.9607 - val_loss: 1.0035 - val_accuracy: 0.6444\n",
      "Epoch 49/50\n",
      "21/21 [==============================] - 0s 16ms/step - loss: 0.1732 - accuracy: 0.9562 - val_loss: 0.7608 - val_accuracy: 0.7254\n",
      "Epoch 50/50\n",
      "21/21 [==============================] - 0s 17ms/step - loss: 0.1164 - accuracy: 0.9743 - val_loss: 0.7611 - val_accuracy: 0.7570\n"
     ]
    }
   ],
   "source": [
    "history = model.fit(X_train, Y_train,batch_size=32, epochs=50, validation_data=(X_test,Y_test))"
   ]
  },
  {
   "cell_type": "code",
   "execution_count": 26,
   "metadata": {},
   "outputs": [],
   "source": [
    "y_pred = model.predict(X_test)\n",
    "#Converting predictions to label\n",
    "pred = list()\n",
    "for i in range(len(y_pred)):\n",
    "    pred.append(np.argmax(y_pred[i]))\n",
    "#Converting one hot encoded test label to label\n",
    "test = list()\n",
    "for i in range(len(Y_test)):\n",
    "    test.append(np.argmax(Y_test[i]))"
   ]
  },
  {
   "cell_type": "code",
   "execution_count": 27,
   "metadata": {},
   "outputs": [
    {
     "name": "stdout",
     "output_type": "stream",
     "text": [
      "Recall score: 0.757\n",
      "F1 score: 0.756\n",
      "Precision Score: 0.793\n"
     ]
    }
   ],
   "source": [
    "from sklearn.metrics import precision_score, recall_score, f1_score\n",
    "\n",
    "print(\"Recall score: %.3f\" % recall_score(test, pred,average='weighted',zero_division=1))\n",
    "print(\"F1 score: %.3f\" % f1_score(test, pred,average='weighted',zero_division=1))\n",
    "print('Precision Score: %.3f' % precision_score(test, pred,average='weighted',zero_division=1))"
   ]
  },
  {
   "cell_type": "code",
   "execution_count": 29,
   "metadata": {},
   "outputs": [
    {
     "name": "stderr",
     "output_type": "stream",
     "text": [
      "c:\\Users\\Sundas.Mohsin\\Python\\lib\\site-packages\\seaborn\\distributions.py:2619: FutureWarning: `distplot` is a deprecated function and will be removed in a future version. Please adapt your code to use either `displot` (a figure-level function with similar flexibility) or `kdeplot` (an axes-level function for kernel density plots).\n",
      "  warnings.warn(msg, FutureWarning)\n",
      "c:\\Users\\Sundas.Mohsin\\Python\\lib\\site-packages\\seaborn\\distributions.py:2619: FutureWarning: `distplot` is a deprecated function and will be removed in a future version. Please adapt your code to use either `displot` (a figure-level function with similar flexibility) or `kdeplot` (an axes-level function for kernel density plots).\n",
      "  warnings.warn(msg, FutureWarning)\n"
     ]
    },
    {
     "data": {
      "image/png": "[encoded data removed]",
      "text/plain": [
       "<Figure size 360x360 with 1 Axes>"
      ]
     },
     "metadata": {
      "needs_background": "light"
     },
     "output_type": "display_data"
    }
   ],
   "source": [
    "plt.figure(figsize=(5,5))\n",
    "ax1 = sns.distplot(test, hist=False, color = \"r\", label=\"Actual Value\")\n",
    "sns.distplot(pred, hist=False, color=\"b\", label=\"Fitted Values\", ax=ax1)\n",
    "plt.title(\"Actual vs Fitted Values for NN for Predicting Smog\")\n",
    "plt.xlabel(\"True values\")\n",
    "plt.ylabel(\"Predicted Values\")\n",
    "plt.legend([\"True values\", \"Fitted Values\"])\n",
    "plt.show()"
   ]
  }
 ],
 "metadata": {
  "interpreter": {
   "hash": "13359a6c2d6277580bce110e3ff6aacc30c1140239f2079fd5c49ab9c5700d6f"
  },
  "kernelspec": {
   "display_name": "Python 3.10.2 64-bit",
   "language": "python",
   "name": "python3"
  },
  "language_info": {
   "codemirror_mode": {
    "name": "ipython",
    "version": 3
   },
   "file_extension": ".py",
   "mimetype": "text/x-python",
   "name": "python",
   "nbconvert_exporter": "python",
   "pygments_lexer": "ipython3",
   "version": "3.10.2"
  },
  "orig_nbformat": 4
 },
 "nbformat": 4,
 "nbformat_minor": 2
}
